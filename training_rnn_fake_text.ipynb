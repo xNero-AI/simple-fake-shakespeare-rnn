{
 "cells": [
  {
   "cell_type": "code",
   "execution_count": null,
   "metadata": {},
   "outputs": [
    {
     "name": "stdout",
     "output_type": "stream",
     "text": [
      "LET'S DO THISS!!! :DDDD\n"
     ]
    }
   ],
   "source": [
    "import tensorflow as tf\n",
    "from tensorflow import keras\n",
    "import numpy as np\n",
    "import matplotlib.pyplot as plt\n",
    "\n",
    "# Lets check your GPU\n",
    "if tf.config.list_logical_devices('GPU') != []:\n",
    "    print(\"LET'S DO THISS!!! :DDDD\")\n",
    "else: \n",
    "    print(\"Oh dude... D:\")"
   ]
  },
  {
   "cell_type": "code",
   "execution_count": null,
   "metadata": {},
   "outputs": [],
   "source": [
    "with open('data/input.txt') as f:\n",
    "    content = f.read().lower()"
   ]
  },
  {
   "cell_type": "code",
   "execution_count": null,
   "metadata": {},
   "outputs": [
    {
     "name": "stdout",
     "output_type": "stream",
     "text": [
      "first citizen:\n",
      "before we proceed any further, hear me speak.\n",
      "\n",
      "all:\n",
      "speak, speak.\n",
      "\n",
      "first citizen:\n",
      "you\n"
     ]
    }
   ],
   "source": [
    "print(content[:100])"
   ]
  },
  {
   "cell_type": "code",
   "execution_count": null,
   "metadata": {},
   "outputs": [
    {
     "data": {
      "text/plain": [
       "\"\\n !$&',-.3:;?abcdefghijklmnopqrstuvwxyz\""
      ]
     },
     "execution_count": 4,
     "metadata": {},
     "output_type": "execute_result"
    }
   ],
   "source": [
    "\"\".join(sorted(set(content.lower())))"
   ]
  },
  {
   "cell_type": "code",
   "execution_count": null,
   "metadata": {},
   "outputs": [],
   "source": [
    "text_vec_layer = keras.layers.TextVectorization(\n",
    "                                                split=\"character\",\n",
    "                                                standardize=\"lower\"\n",
    "                                            )\n",
    "text_vec_layer.adapt([content])\n",
    "encoded = text_vec_layer([content])[0]"
   ]
  },
  {
   "cell_type": "code",
   "execution_count": null,
   "metadata": {},
   "outputs": [],
   "source": [
    "encoded -= 2  # drop tokens 0 (pad) and 1 (unknown), subtraindo 2 (pad e unknown)\n",
    "n_tokens = text_vec_layer.vocabulary_size() - 2  # number of distinct chars = 39\n",
    "dataset_size = len(encoded)  # total number of chars = 1,115,394"
   ]
  },
  {
   "cell_type": "code",
   "execution_count": null,
   "metadata": {},
   "outputs": [
    {
     "data": {
      "text/plain": [
       "<tf.Tensor: shape=(1115394,), dtype=int64, numpy=array([19,  5,  8, ..., 20, 26, 10], dtype=int64)>"
      ]
     },
     "execution_count": 7,
     "metadata": {},
     "output_type": "execute_result"
    }
   ],
   "source": [
    "encoded"
   ]
  },
  {
   "cell_type": "code",
   "execution_count": null,
   "metadata": {},
   "outputs": [
    {
     "data": {
      "text/plain": [
       "(39, 1115394)"
      ]
     },
     "execution_count": 8,
     "metadata": {},
     "output_type": "execute_result"
    }
   ],
   "source": [
    "n_tokens, dataset_size"
   ]
  },
  {
   "cell_type": "code",
   "execution_count": null,
   "metadata": {},
   "outputs": [],
   "source": [
    "window_size = 128\n",
    "batch_size = 32\n",
    "ds = tf.data.Dataset.from_tensor_slices(encoded) # Fatia o ds em janelas de tamanho window_size\n",
    "ds = ds.window(window_size + 1, shift=1, drop_remainder=True) # Você pode visualizar com um .as_numpy_iterator() e colocar num loop com .take(1)\n",
    "ds = ds.flat_map(lambda window: window.batch(window_size + 1)) # Transforma cada janela em um tensor\n",
    "ds = ds.shuffle(100_000, seed=42)\n",
    "ds = ds.batch(batch_size)\n",
    "ds = ds.map(lambda window: (window[:, :-1], window[:, 1:])).prefetch(1)"
   ]
  },
  {
   "cell_type": "code",
   "execution_count": null,
   "metadata": {},
   "outputs": [
    {
     "name": "stdout",
     "output_type": "stream",
     "text": [
      "(32, 128) (32, 128)\n",
      "tf.Tensor(\n",
      "[ 9 12  0 19  5 20  6  2  0 16  5  2  6  0  2 27  3  2  6  1  8 17 10  1\n",
      "  8  1  0  7  2  4 15  0 21  1  6  5  9 12  0  2  6  5  7  0 21 13  7  5\n",
      "  9  1  7  7 26 10 10 14  1  9  1  9  5 13  7 23 10  3 17  0  2  8 13  1\n",
      " 31 21  8  1 12 30 10 10 19  5  8  7  2  0  7  1  9  4  2  3  8 23 10 15\n",
      "  3 13  8  0 18  3 14 22  4  9 15  0  2  3  0  2  6  1  0 18  4 22  5  2\n",
      "  3 11 28  0 16  6  1  8], shape=(128,), dtype=int64) tf.Tensor(\n",
      "[12  0 19  5 20  6  2  0 16  5  2  6  0  2 27  3  2  6  1  8 17 10  1  8\n",
      "  1  0  7  2  4 15  0 21  1  6  5  9 12  0  2  6  5  7  0 21 13  7  5  9\n",
      "  1  7  7 26 10 10 14  1  9  1  9  5 13  7 23 10  3 17  0  2  8 13  1 31\n",
      " 21  8  1 12 30 10 10 19  5  8  7  2  0  7  1  9  4  2  3  8 23 10 15  3\n",
      " 13  8  0 18  3 14 22  4  9 15  0  2  3  0  2  6  1  0 18  4 22  5  2  3\n",
      " 11 28  0 16  6  1  8  1], shape=(128,), dtype=int64)\n"
     ]
    }
   ],
   "source": [
    "for X_batch, y_batch in ds.take(1):\n",
    "    print(X_batch.shape, y_batch.shape)\n",
    "    print(X_batch[0], y_batch[0])"
   ]
  },
  {
   "cell_type": "code",
   "execution_count": null,
   "metadata": {},
   "outputs": [],
   "source": [
    "# Criando função\n",
    "def to_dataset(sequence, window_size=128, batch_size=32, seed=42, shuffle=False, target='all_window'):\n",
    "    ds = tf.data.Dataset.from_tensor_slices(sequence) # Fatia o ds em janelas de tamanho window_size\n",
    "    ds = ds.window(window_size + 1, shift=1, drop_remainder=True) # Você pode visualizar com um .as_numpy_iterator() e colocar num loop com .take(1)\n",
    "    ds = ds.flat_map(lambda window: window.batch(window_size + 1)) # Transforma cada janela em um tensor\n",
    "    if shuffle:\n",
    "        ds = ds.shuffle(100_000, seed=seed)\n",
    "    ds = ds.batch(batch_size)\n",
    "    if target == 'all_window':\n",
    "        ds = ds.map(lambda window: (window[:, :-1], window[:, 1:])).prefetch(1)\n",
    "    elif target == 'last_char':\n",
    "        ds = ds.map(lambda window: (window[:, :-1], window[:, -1])).prefetch(1)\n",
    "    else:\n",
    "        raise ValueError('target must be \"all_window\" or \"last_char\"')\n",
    "    return ds"
   ]
  },
  {
   "cell_type": "code",
   "execution_count": null,
   "metadata": {},
   "outputs": [
    {
     "data": {
      "text/plain": [
       "[(<tf.Tensor: shape=(2, 3), dtype=int64, numpy=\n",
       "  array([[ 4,  5,  2],\n",
       "         [ 5,  2, 23]], dtype=int64)>,\n",
       "  <tf.Tensor: shape=(2, 3), dtype=int64, numpy=\n",
       "  array([[ 5,  2, 23],\n",
       "         [ 2, 23,  3]], dtype=int64)>)]"
      ]
     },
     "execution_count": 12,
     "metadata": {},
     "output_type": "execute_result"
    }
   ],
   "source": [
    "# Exemplo de uso\n",
    "list(to_dataset(text_vec_layer(['To be'])[0], window_size=3))"
   ]
  },
  {
   "cell_type": "code",
   "execution_count": null,
   "metadata": {},
   "outputs": [],
   "source": [
    "window_size = 128\n",
    "tf.random.set_seed(42)\n",
    "train_set = to_dataset(encoded[:1_000_000], window_size=window_size, shuffle=True, seed=42)\n",
    "valid_set = to_dataset(encoded[1_000_000:1_060_000], window_size=window_size)\n",
    "test_set = to_dataset(encoded[1_060_000:], window_size=window_size)"
   ]
  },
  {
   "cell_type": "markdown",
   "metadata": {},
   "source": [
    "### Training Char-RNN model"
   ]
  },
  {
   "cell_type": "code",
   "execution_count": null,
   "metadata": {},
   "outputs": [],
   "source": [
    "tf.random.set_seed(42)  # extra code – ensures reproducibility on CPU\n",
    "\n",
    "model = tf.keras.Sequential([\n",
    "    tf.keras.layers.Embedding(input_dim=n_tokens, output_dim=16),\n",
    "    tf.keras.layers.GRU(128, return_sequences=True),\n",
    "    tf.keras.layers.Dense(n_tokens, activation=\"softmax\")\n",
    "])"
   ]
  },
  {
   "cell_type": "code",
   "execution_count": null,
   "metadata": {},
   "outputs": [],
   "source": [
    "def decoder(seq):\n",
    "    output = np.array(text_vec_layer.get_vocabulary())[seq + 2]\n",
    "    new_output = []\n",
    "    for i in range(output.shape[0]):\n",
    "        phrase = \"\"\n",
    "        for j in range(output.shape[1]):\n",
    "            phrase += output[i, j]\n",
    "        new_output.append(phrase)\n",
    "    return np.array(new_output)"
   ]
  },
  {
   "cell_type": "code",
   "execution_count": null,
   "metadata": {},
   "outputs": [],
   "source": [
    "# estilo\n",
    "plt.style.use('dark_background')\n",
    "plt.rcParams['axes.facecolor'] = '#26262e' \n",
    "\n",
    "def print_multiple_generated(predicted_text, original_text, n=8):\n",
    "    print(\"--> Original text:\")\n",
    "    for i in range(n):\n",
    "        print(original_text[i])\n",
    "    print(\"\\n--> Generated text:\")\n",
    "    for i in range(n):\n",
    "        print(predicted_text[i])\n",
    "        \n",
    "def plot_loss(history, step):\n",
    "    plt.plot(list(range(len(history['loss']))), history['loss'], label='Training Loss')\n",
    "    plt.plot(list(range(len(history['loss']))), history['val_loss'], label='Validation Loss')\n",
    "    plt.xlabel('Step')\n",
    "    plt.ylabel('Loss')\n"
   ]
  },
  {
   "cell_type": "code",
   "execution_count": null,
   "metadata": {},
   "outputs": [
    {
     "name": "stdout",
     "output_type": "stream",
     "text": [
      "--> Original text:\n",
      " not to save labour, nor that i want love.\n",
      "\n",
      "valeria:\n",
      "you would be another penelope: yet, they say, all\n",
      "the yarn she spun in ulys\n",
      "\n",
      "--> Generated text:\n",
      "tg nbbnrpa:garwgwtw aw .ratpt..:wb.r..p\n"
     ]
    },
    {
     "data": {
      "image/png": "[encoded data removed]",
      "text/plain": [
       "<Figure size 640x480 with 1 Axes>"
      ]
     },
     "metadata": {},
     "output_type": "display_data"
    }
   ],
   "source": [
    "from IPython.display import clear_output\n",
    "\n",
    "history = {\n",
    "            'loss': [],\n",
    "            'val_loss': []\n",
    "        }\n",
    "\n",
    "sparse_categorical_crossentropy = keras.losses.SparseCategoricalCrossentropy()\n",
    "optimizer = keras.optimizers.Nadam()\n",
    "n_epochs = 10\n",
    "step = 0\n",
    "\n",
    "for epoch in range(n_epochs):\n",
    "    n_batch = 0\n",
    "    for X_batch, y_batch in train_set:\n",
    "        \n",
    "        with tf.GradientTape() as tape:\n",
    "            y_pred = model(X_batch)\n",
    "            loss = sparse_categorical_crossentropy(y_batch, y_pred)\n",
    "        gradients = tape.gradient(loss, model.trainable_variables)\n",
    "        optimizer.apply_gradients(zip(gradients, model.trainable_variables))\n",
    "        \n",
    "        if step % 100 == 0:\n",
    "    \n",
    "            y_proba_ = model(X_batch)\n",
    "            y_pred_ = tf.argmax(y_proba_)  # choose the most probable character ID\n",
    "            predicted_text = decoder(y_pred_)\n",
    "            original_text = decoder(X_batch)\n",
    "                        \n",
    "            # Val loss\n",
    "            \n",
    "            val_loss = 0\n",
    "            n_val_batch = 0\n",
    "            for X_val, y_val in valid_set:\n",
    "                y_proba_val = model(X_val)\n",
    "                val_loss += sparse_categorical_crossentropy(y_val, y_proba_val)\n",
    "                n_val_batch += 1\n",
    "                if n_val_batch == 100:\n",
    "                    break\n",
    "            val_loss /= n_val_batch\n",
    "            \n",
    "            history['loss'].append(loss.numpy())\n",
    "            history['val_loss'].append(val_loss.numpy())\n",
    "                  \n",
    "            clear_output()\n",
    "            \n",
    "            print_multiple_generated(predicted_text, original_text, 1)\n",
    "            plot_loss(history, step)\n",
    "            plt.legend()\n",
    "            plt.show()\n",
    "            \n",
    "        n_batch += 1\n",
    "        step += 1\n",
    "        "
   ]
  },
  {
   "cell_type": "code",
   "execution_count": null,
   "metadata": {},
   "outputs": [
    {
     "data": {
      "text/plain": [
       "array(['e  nn o iie   ai    inn  ee   e o oe i e        o nnee  n   ieeiee        e o     nnne   ieeieiee  e  ie i ne iiie ii  een  ieie',\n",
       "       'oee a  oo ee   i ii  i  e e i inne nnno nnin i e i i    e   iiiei e   e  a a nee ieeee   nnnnn  iin i iie enee i iieei  ni i iei',\n",
       "       'ei  nneeeee  niiii nnn i ii n  ie ii   e i iiii i   i   ea i  oi i   e aoa   ioeeoe     i eie   i   e  i i  ie ani ianeineiniei ',\n",
       "       'ieeiiii  i i e ne o i a o  eeeeienineeeeneeeee  nnn ieeie       ee e   in i iee ie iiinneon         a e nn in iie  ieeeeeee i  e',\n",
       "       'iinn  iiie     ee   eaa i i i  i i  i  n oi i eae ii n iieieee    o   i  ineeeiiieeie a     ie ieeio nnen e   n  o   e o eeeee o',\n",
       "       'aeea    e   nnnn ie a  e o   iei i neiee  i i i  e e   ieii      ioonnn io   i n ni i  e  neeie a  oo ee   i ii  i  e e i inne n',\n",
       "       'i ii  ieei iii  eo   e i  nen nninn   e  eeei n i  ieee i  i  e oeo e  i  iiii e   n       n i   aa i  i  eii  eniii     ii ee e',\n",
       "       'oe i ii iieiee o e i    e  e i  eeieeinnnnene e   e  ne  nnnn nniee iiieie   eeiee  eeie iinien    innini ianenne   nnneeneei i ',\n",
       "       'eoan ne eie  e     o i i  ien ne  eii   eie i  eeni i   n  e i  nn ioneee i     ii e    e i    ee    eeeiee e   i ii ie    nnnnn',\n",
       "       'oe o  eiiiie iee   nnn  oeeee iieeeeeee  i eieiiei        onnoe iiinieeeniiiie e ieiiien i i  n  n  ii  eee   ne in n e  neiinni'],\n",
       "      dtype='<U128')"
      ]
     },
     "execution_count": 160,
     "metadata": {},
     "output_type": "execute_result"
    }
   ],
   "source": [
    "# y_proba_ = model(X_batch)\n",
    "# y_pred_ = tf.argmax(y_proba_, axis=-1)\n",
    "# decoder(y_pred_)[:10]"
   ]
  },
  {
   "cell_type": "code",
   "execution_count": null,
   "metadata": {},
   "outputs": [],
   "source": [
    "\n",
    "# y_pred_ = tf.argmax(y_proba_)  # choose the most probable character ID\n",
    "# len(decoder(y_pred_)[0])"
   ]
  }
 ],
 "metadata": {
  "kernelspec": {
   "display_name": "toydl",
   "language": "python",
   "name": "python3"
  },
  "language_info": {
   "codemirror_mode": {
    "name": "ipython",
    "version": 3
   },
   "file_extension": ".py",
   "mimetype": "text/x-python",
   "name": "python",
   "nbconvert_exporter": "python",
   "pygments_lexer": "ipython3",
   "version": "3.9.18"
  }
 },
 "nbformat": 4,
 "nbformat_minor": 2
}
